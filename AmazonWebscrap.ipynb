{
 "cells": [
  {
   "cell_type": "markdown",
   "id": "05761a7e",
   "metadata": {},
   "source": [
    "# Web Scraping Of Customer Reviews For BOAT Earphones  From Amazon Website"
   ]
  },
  {
   "cell_type": "code",
   "execution_count": 1,
   "id": "72e9baa3",
   "metadata": {},
   "outputs": [],
   "source": [
    "from bs4 import BeautifulSoup as bs\n",
    "import requests"
   ]
  },
  {
   "cell_type": "code",
   "execution_count": 2,
   "id": "09967460",
   "metadata": {},
   "outputs": [],
   "source": [
    "page = 1\n",
    "title = []\n",
    "while page != 9:\n",
    "      url = f\"https://www.amazon.in/Bassheads-100-Wired-Earphones-Green/product-reviews/B08MD255XB/ref=cm_cr_arp_d_paging_btm_next_2?ie=UTF8&reviewerType=all_reviews&pageNumber={page}\"\n",
    "      response = requests.get(url)\n",
    "      #content = url.content\n",
    "      soup = bs(response.content,'html.parser')\n",
    "      for span in soup.find_all('span',{\"data-hook\":\"review-body\"}):\n",
    "            title.append(span.get_text(strip=True))\n",
    "      page = page + 1"
   ]
  },
  {
   "cell_type": "code",
   "execution_count": 3,
   "id": "ed3b0581",
   "metadata": {},
   "outputs": [
    {
     "data": {
      "text/plain": [
       "[\"I have purchased this boat earphone few months ago...😊Here I'm sharing our experience with this product.Build quality⏮️⏭️ Its build quality is Awesome and looks premium in hands when you hold it in your hands. Also its a light weight product.Sound quality⏮️⏭️ sound quality is good.Works well for soft and melody songs with my personal experience.Length⏮️⏭️ comes with long size cable which is a cool thing and I like it.One thing I like is that it comes with a strap to tangle the cable.Ear comfort ⏮️⏭️ get fit easily in ears.Durability ⏮️⏭️ It will depend what kind of user you are.  If you're protective towards your stuff so maybe this will be a last long product.******************************************Cons⏯️⏯️Come with dedicated microphone which works ok ok. There is still noise in calling while traveling. So not satisfied with this noise cancellation Mike.I am not satisfied with the bass quality.  It works average.******************************************What you will get inside?⏮️⏭️ You will get earphone with some paperwork's and it comes with one year warranty  which you have to activate by calling on the given number I guess.You will also get two pairs of additional ear protector for further use.I hope this will help you to make your purchase decision.😊\",\n",
       " 'One of the best pair of earphone for the price1} Sound quality is amazing for the price 😍2} Built quality is good but not the best but  for the budget price I can say its good ⚡3} Headphone jack is not gold plated ⚠️4} I have been using this earphone from past more than a year and have replaced it once under warranty which was super easy hassel free🎶5} I have used many other brand earphones such as JBL, Sony, Sennheiser, RHA, Boultaudio and recently Infinity and I am not a professional but have experience of many earphones so I can say this is the best sounding in budget and very comfortable in shape to use for longer duration 💯💥I can definitely recommend this earphones must buy in budget segment 🔝🔝✅🔥🔥',\n",
       " 'Build quality (5/5)Durability (4/5)Wire length and tangle free(5/5)Sound quality (5/5)Microphone (4/5)Ear comfort (5/5)This product met my expectations....Thanks Amazon ❤️',\n",
       " \"I bought this in sept and I'm NOT SATISFIED with the purchase... Don't get me wrong, the sound quality is amazing for a earphone this cheap, but its flat... The bass kicks in only when there's too much bass in the music, else the sound feels very flat... Also the audio via the microphone is bad, and the mic is located on the split end of the cable, which is very low... At times I've heard people complaining that they cannot hear my voice clearly... Only for those who are struck with the price tag of 300-400rs... In that range its good, but if you can spend a 100rs more, get the basshead 225...\",\n",
       " \"For a price of rs 400 it's worth the cost, i previously used boat bassheads 225, now i tried this for pricing it does the job.Pros,Easy fitNice qualityGood bassInbuilt micCons.It doesn't have a clip or dual coloured ear buds noraml black only.Maybe you should give blue, red colour like other products.The connecting cable will be flat unlike folded one, that quite difficult while playing games or youtube bt you figure it out gow to mangae itUpdateAfter 9 months one side stopped working and i have complained in their official website with downloaded invoice from amazon and the next day my product was picked and in next 15 days got newer one. For the 400 rs it lasted about one and half years that was good for the price and it has one year warranty compared to mi and realme 6 months warranty and you have to carry your products to their outlets.Note .While claiming warranty you have to upload invoice that has to be downloaded only in pc version as of now ,so login amzon account in seperate browser in desktop mode or use pc to download the invoice.\",\n",
       " \"After using it for less than one week one of the headphone wire comes from the Mic join point. It detached automatically. Yes, automatically. No pressure no pulling caused this. I did my registration and complain to their website. They sent me a ticket number through email and text message. I am so so disappointed ; don't know when pick up will happen and when I will get a non defective earphone. Such a horrible experience.\",\n",
       " \"This is a very great earphone with a good quality sound, but it's not for rough usage! The sound is flat, so less bass in regular condition! But the earphone has got a very good frequency range. So still a deep bass is possible but with an equalizer. You can try my preset.  Also remember that the quality of sound also depends on your device's sound card.\",\n",
       " 'I bought this earphone cause I had read in the reviews that they provide excellent after sales service and replace the earphone if any defect occurs. I had previously tried many companies earphones but in a few months always they would give problems. The sound quality and durability is amazing for the price. But due to rough usage one ear stopped working after 3 months. But the after sales services are amazing. They arranged a pickup of my old earphones and delivered a new pair to me after 10 days.Really happy customer',\n",
       " \"One of my friend has this product that's y I came for this product.  My idea is to by skull candy only but cos of my frd i came for this product. He s having good product but what I got is defective material. Actually i got this by last week at my work place. I got an emergency to travel so i left the product at my office itself. Yesterday I came and checked the product. It's a broken one. Yes it's broke at the connector area.  They hide it and deliver to me. While checking the product didn't work after full checking headset came into 2 parts. Kindly return my money back or send me a genuine product.\",\n",
       " 'Sadly just 2 months and it is dead. the most sad part is it was sold with one year warrenty but within a month they refused to replace the item. total waste of  hard earn money.',\n",
       " 'Boat brand was unknown to me. I gave it a shot and bought these earphones after reading several positive reviews. For this price there are no other better earphones out there. First thing I noticed was how strong the connecting cables were, much tougher and sturdier as compared to other well known brands. The earpieces also fit tightly into the ears and seem on the harder side. They will never fall off from the ears. Sound quality is above average as compared to their next product in the hierarchy. Frankly the only missing part is the heavy bass.(this comparison is unfair as I also use Sony XB 550) Other than that an excellent product.',\n",
       " \"Felt like Cheap Chinese Headphones in some nice packing.Go for Sennheiser, I wasn't able to wear then single day.Pro - So Loud at full they can even bleed your ears too.Cons- High bass driven outshines the highs and the mids ( Vocals lie deep down that boom boom)- Not that comfortable to wear.- even design is So called hawk but it is not if comfort is considered.Choice is Yours.\",\n",
       " 'Having used SoundMagic ES18s, JBL C200SI and Sennheiser CX 180 Street II which are known top selling. This product is breaks the budget market segment. Here is my verdict:Pros:1. Great for Bass lovers.2. Overall clarity of output is quite good.3. Eye catchy design.4. Mic performance is good on calls.5. Decent wire length.Cons:1. The wire is of high quality but feels too rubbery.One of the best in ear earphones if you are looking for daily use and do not want to spend much on an earphone.Overall the sound quality is too good for its price. I would recommend this product especially for phone usage.',\n",
       " \"Okay product. Will comment in 3-6 months regarding durability.These are supposed to be basshead earphones but I don't think they qualify - not at their price range.They don't really boost bass just amplify it and make the entire lower range frequency louder. As a result, if you go above the halfway volume mark, the sound sort of starts cracking and hurting ears. The problem goes away a bit when you tweak the sound settings. However, the range is small. If you optimize settings for bass, then treble starts cracking, and if you optimise for middle range sounds (can't really get a good treble), then bass starts cracking. Just not satisfactory for me.Of course, everyone's taste in music is different and their requirements from earphones are different. Obviously, I listen to everything from Opera and Death metal to bluegrass and hip-hop to rap and jazz to Punjabi upbeat songs and Ghazals. So this earphone covers only a fraction of all that and hence I do not particularly like them even for the price of rs 379 that I paid in the lightning deal. There were a few cheaper earphones that were much better than these and I only bought this because they were out of stock.However, if your taste in music covers a narrow frequency range and similar genres and you just want loud percussion sounds and don't care about much else, go for it.As for watching TV shows and Movies, earphones generally don't affect the experience that much unless they are too good or too bad. However, here too, I find that the sound gets annoying if the volume is too high and I cannot eat while watching because it amplifies the sound of my jaw too much. Plus it makes everything sound a little weird. But I guess the last part gets adjusted with use.All in all, I will try a different pair next time. I mainly checked the reviews and bought them because they were rated high on durability. If they break soon, then there will be no point in me ever buying them again. I will see how long they last.\",\n",
       " 'honestly saying, i was influenced to buy this product from my friend who is already using this product. i opted this over sony as this product is giving better sounds than that. i purchased this product and after few days of using, the left earphone started to give odd sounds. it actually giving symptoms of not going to work in future, exactly what happened within  days. it completely stopped working.i thought a product defect and applied for warranty (used for one month). then i came to know that the same problem my friend is also facing with the same earphones. his earphones also got the same wire issue.so i better suggest you to not buy this product.thank you.',\n",
       " 'Worst product ever. No bass no sound quality at all. If i get less than 1 star option i will give that.',\n",
       " 'The media could not be loaded.Built Quality is  good, but does not last long.Stopped working after 7 months  but got new replacement  easily  from service  centre .Stopped  working again, within warranty  period  but now service  centre  is  giving out appointment date when I have to visit again  for replacement. They are asking to come back after 1 month for collecting  replacement  for defective  earphones.After much request gave date for after 15 days.They are saying company is not sending adequate  stocks,they have huge backlog to clear,only then they will give me service.Best not to buy BoAt products  any more, atleast until they can sort out their after sales support.',\n",
       " \"What I dislike about this earphone is its design. It is not at all ergonomic.There are some significant flaws. I write this, after having used Mi red phones which are in the same price range -300-400/-1. The ear buds are too small and don't give you that tight grip feel. It will fall off in the slightest of activity2. Position of mic: The mic is situated very low, at the point of intersection between 2 strings. It literally falls till you lower chest. So while talking on phone you have to hold the mic up manually near your mouth. In Mi earphones mic is placed near the right ear string, at a height near your face. That makes it easy to talk while earphones are on.3. The connecting cable at the point where you plugin to your phone is too long. That makes it prone to a lot of bending.This may cause early breakage.Having owned both earphones, I would recommend Mi over Boat.Voice quality is similar. Just above decent\",\n",
       " \"I bought it 3 months before was working fine suddenly it mic was not working I couldn't fond the reason I contact boat company even I have all my gadget from. Boat after my headphones u bought another one for my parentbut my one is stopped working reason is nothing the company is not ready for claim or warranty really upset the why I should go all my products with Boat so I stopped purchase it from boat\",\n",
       " \"I got this product for 399 rs and its worthy.Tho it's not as comfort as other earphones in our ears it gives you nice music and base is okay.Its more worth than your money I'd say if you buy it for 399\",\n",
       " \"The media could not be loaded.Finally writing review about Boat Basshead 100.... I bought the Earphone for my sister as she likes to listen and record songs on her phone. I was looking under 500rs and found this Earphone at first I wasn't sure about the performance of this Earphone but after doing some research I finally ordered it.Amazon delivered it as usually very fast before the time....Now about the Earphone:Like the name suggest it gives you the best bass quality under this budget and  you will love to listen songs on this Earphone. It has  well balanced sound output and if you are a bass lover than this one is for you. Also the record quality and call quality is very good in my day to day usage.It has extra earbuds of different sizes, if you find yourseld uncomfortable after using this than you can change earbud according to you ear. It has premium quality design and material. Wire used in this Earphone is very good and it can be used for a year or two depends how you take care of this Earphone. It also comes with a one year warranty. So, if you're looking for a budget Earphone than go for it.\",\n",
       " 'Bass is not good. The sound is just like as chinese low quality product.There is no instant refund policy, first they will provide you replacement which is not useful. If not satisfied then refund for returns will take long time may be 15-20 days. The seller does not care customer.',\n",
       " 'Actually there is nothing in the product that can be appreciated..The product is promoted on the basis of quality of extra bass which is totally a fake promotion. There is no bass..and the sound quality is also very disappointed..Overall the quality of the product is very cheap and below average....An earphone of costing Rs 50 has much better quality than this product....Its my humble request to you please stop cheating customers through these fake advertisement and promotions......',\n",
       " \"I bought this headphones on basis of Amazon Rating. But quite disappointed with quality of sound.I have used many headphones and I would say this one is worst I have ever bought.More details given below -Prons -Only PriceCons -Sound quality is really worstNot comfortable fit for earsCan't listen that very small background music which can be heard on some other good quality phone'sEar buds are of low quality and not softI would recommend not to buy only on basis of low price. Pay slightly more but buy good quality headphones.Definitely NO Go ! Don't buy !\",\n",
       " \"The product was very good for the first 10 days of my purchase but then after my calls getting disconnected automatically when headset is connected and few abnormalities happing when connected. Unfortunately the return date is expired. Don't know what to do.\",\n",
       " \"Just two hours into listening music on this headset, and it is really at par with many of the reputed brands..I have been a fan of JBL head sets but, this one is also is at par with it but at a lesser price.. started to like boAt as a brand and lifestyle products manufacturer. Even the shape of the ear buds is different than regular rounded shapes...Good to see some different shaped head set.Got this one during the sale on Amazon, and I feel it's value for money.\",\n",
       " \"It's been almost an year, my left side stopped working for about an week ago and both sides are gone now. It had good bass quality, 100% tangle free, long wire and good mic. But, the cons are.... the noise cancelation is not so good and also the sound quality decreases overtime. And I forgot, it's durability is an overall perk of thus product cuz it survived in my washing machine for over 5 times 😅 and worked fine after drying up good. But, it reduced the sound quality.\",\n",
       " \"I dont know how people are rating this as 3+ above. For low quality headphone people who used this first time would be good. I'm using Sony headsets past 7-8Yrs n after seeing this rating 4+ I opted to buy, but after listening music of all tracks I regretted this purchase but my luck my other friend liked this red color and added 2 his collection.Add 400 more bucks and try Sony basic headset and you will realise the beats...If higher value then beats are hard..\",\n",
       " \"It is a decent product from boat, decent bass treble is good.If you want to buy a earphone that explodes with bass don't go for this one, but if you want clear punch and drum sound... then you should definitely buy this as its bass doesn't blend with treble and ruin the quality...Overall the nice product if you'll consider the price also.... I bought this at 399. Also oneore thing I like about the boat is that it gives the warranty of a year so if product stop working you can simply go to product complaint site and upload the bill within a week they schedule a pickup and exchange your earphone unlike other earphone products where you have to courier them by your own.\",\n",
       " 'The media could not be loaded.1} Sound quality is amazing for the price 😍2} Built quality is good but not the best but for the budget price I can say its good ⚡3} Headphone jack is not gold plated ⚠️4} I have been using this earphone from past more than a year and have replaced it once under warranty which was super easy hassel free🎶5} I have used many other brand earphones such as JBL, Sony, Sennheiser, RHA, Boultaudio and recently Infinity and I am not a professional but have experience of many earphones so I can say this is the best sounding in budget and very comfortable in shape to use for longer duration 💯💥',\n",
       " \"I bought this a month ago, I was kinda happy in the beginning and then not even a month had gone one of it's side stopped working. I was pissed off. I tried calling Boat customer service number which I got from their official website but it was a wrong number then I placed a complaint on it's website on 28th of June 2019 they did a pick up on 30th June and I got a parcel on 17th of July 2019. When I opened it I was so disheartened by seeing an Earphone with only one pair of buds which were black. I returned them the whole box with earphones and this is what I got. I would never ever buy anything from BOAT and would never recommend anybody to buy anything from them as they do not value their customers nor their time their patience. Pathetic Experience, thought of sharing so you wouldn't be the next victim.\",\n",
       " 'Material qualityThe earphones come with extra in ear plugs for choosing the right size for your ear. Those extra plush do not fit the earphone. Only the one that the earphone comes attached to, works. The rest of them are useless, there by throwing the size selection out the window.SoundPersonal opinion, the sound felt a little hollow, as if I was in a room hearing background echo. The sounds are very much different from all other earphones and over head headphones I have used.Also tapping the wire give you a tap sound in the ear. So if you are moving and the wire brushes against your clothing or hand, you get a disturbance in your ear. This is something I have never experienced earlier.The microphone and pause/play button works well.DurabilityOverall looks a bit fragile. Will wait on this to see if it lasts.In conclusionThe earphones do the job, a little compromise on quality.',\n",
       " \"I had been using this earphones from last 1  week. It' been fine. The deleivery for this product was on time. The product was not fully protected though there was only box and amazon carry bag. I would like to tell you guys its pros and consPros:-Sound quality is great.Bass is well1) Treble is ok, somehow it is diminished by 2) High tones3) Buid quality is ok.4) Design is good.Thats all pros now lets move to cons:-…Less than 2 months of usage one side already stopped working.Sound is OK, but what good a product that has no life. Couldn't find a way to replace as well.No extra strains applied, always kept coiled with velcro strap.\",\n",
       " 'This is a well-known brand and I did buy it cause of positive reviews. The earbuds keep falling off and the sound quality is not what I expected it to be. Would want to return it back. Not satisfied.',\n",
       " 'Sound - 3/5Mic- 4/5Design- 3/5Durability- 3/5Mic is better,above than average. Looks wise good, black sleek design. Mic is places bit low but it would work fine. Sound is okay,not that great. Ordered it for my little brother and till now he is enjoying it.If you listen music alot and want an earphones for talking as well, this is good oneSuggestion: we all use handsfree and mainly listen music while keeping cell in pocket, its better if manufacturers make L shape jacks so that while taking out the phone while driving or from tight pants, cables dont get tear easily from 3.5 jack and makes the whole handsfree useless.Edit: durability is poor, after couple of months wire started reading, sound distortion and now one eat plug stopped working.',\n",
       " 'Important: I love these earphones, very good quality and good mic, but every 2-3 months, one side of the earphones stop working.. so you have to replace it. Just ordering my 3rd set after 4 months.. but it’s worth the price, I mean if u buy 2000 rupees one it would still stop working after maybe 5-6 months... unless you buy a product which is like 5k, u would still have to keep replacing... but it’s worth the price.. thank you for reading, hope it helps..',\n",
       " \"When it first arrived, I was quite pleased with the packaging and the stuff that was provided with is. 2 pairs of extra ear buds, the wire strap and the tiny bag!The earphone sound quality is pretty good for such a price. I have a seinheisers as well, and the quality of boat is almost at par, with this being only 375 and that at 700+ Rs.Noise cancellation is pretty good too! I use it to study when there is too much noise around the house and it works perfectly fine and blocks all the noise outAnd finally bass quality, it isn't the best out there but for a price like this, it's pretty acceptable, given all the accessories they give tooIt has an inbuilt mic and both the voices are very clears during calls.Quite happy with the product, been using it for a month now!\",\n",
       " \"So I have purchased this one for myself. I'm already using mi basic earphone while I wished to test it's sound cause this earphone is so popular. So after delivery when I compared it's sound with my mi basic earphone i found that this earphone is louder and has clear voice where bass goes less under the voices...mid and high are so clear but lower no satisfactory while mi basic has more bass with same level of mid high and low ... This boat earphone's impedance is 16ohm lower means it consumes less power while mi basic has 32ohm impedance.That's good while it has same driver unit size 10mm and frequency range and sensivity like mi one. It has 1.2m wire which is tangle free and strong. But it has no L shape 3.5mm connector which is helpful specially when keeping smartphone in pocket. Also no gold plate on the jack. While mi basic has that. But appearance design and packaging has creativity touch. Driver cabinet made of plastic with unique design but no metal there. it has control unit with mic hole and press button which is helpful to play or pause music or to answer the call. Mic's sound input is good but not the best . Also it has wire managment tape marked with boat when you don't need the whole wire to use. Comes with as usual small medium large earbuds. The earbuds seals your ear very well to prevent any ambient noise. It has 1 year of boat warranty while mi has 6 months.  Also there are a product catelouge which shows different product variety of Boat. So I liked it the special design and sound clarity , not the bass which it's name says. If it is for more bass with normal sound then I will prefer mi basic one. LIKE my review if found helpful. Can checkout attached photos.\",\n",
       " 'The media could not be loaded.It is not working ,i buyed it on 17th June 2021 and today is 7 th August 2021,Worst buying,if you are purchasing online then go for local brand',\n",
       " \"Looking for earphones online? This may be the best choice for you.if you are a stock Android user or any user, this earphone provides the best hearing experience.I'm using this earphone since hours, but no pain in ears or head, that means their ergonomic design really worked.The Black colour looks more classy then other colours , and its design is beautiful .if we talk about comfort.., do they well played here.,these are so comfortable .but we can purchase same audio quality earphone through the market , like ubon big daddy bass for less than 300 rs but the durabilty ,and comfort is not same as these earphones .Cable - cable is good ,it is tangle free and easy to handle.Design - impressive design , it doesn't fall from your ears even while running .Button - it provides a single button , but can fo many things with this single button if you are a android user .1. double tap to play next song .2. triple tap to play previous song .3. long press to access google assistant and directly apply operations4. single tap for play and resumeThe button is comparatively very smooth to press.\",\n",
       " 'The product has all my stars.Literally, a superb product, with amazing bass quality, nc , 1 year warranty and the in box accesories.This black poch to keep the product, extra buds, and the saviour for tangled wire.Talking about the product quality, it is extremely good, the length of the wire is also good, one can easily work and travel while putting it in pockets. Also, the colours are great and the best thing being the affordability.I bought this for 299 only with all these accesories free. An amazing deal by Amazon and an amazing product by boat. Thank you.',\n",
       " \"BASS QUALITY= Nicebeats detail  = great(at full volume minor buzzing sound, that can be avoidable)at this price range you are getting a microphone enabled superbass earphone.plastic material is fine and it will not feel like any cheap one. design is also good. and will be fit in your year.you will receive 2  pair buds along with it and 1year warranty note inside the box.look like if i go for upper versions of boat's product , it is going to beat my skullcandy one.\",\n",
       " \"Just recieved review. And remember all this good things caz of the price point (rs379)...if it was higher then stars would go down a lot.The box wasn't such premium looking which dint bother me, but opening the box and finding the unexpected delight made me give 5 star ... The soft pouch for carrying the earphone was the best addition at this price point. The earphone build looks average and there were 3 sized ear tips to change. The default was good for me. The sound quality was very good for the price point...almost near jbl c50si. The sound from this boat is more sharp with elevated voice and the bass and treble is good enough. If looking for bass then JBL c100 is better and for overall sound quality with bass I find  JBL c200si to be the best.This boat comes with one year warranty which is what m looking at these days more. May be after some run-in, the boat might release more bass, but it's good enough for now.After few minutes of use the ears pained a little...but this depends on size and shape of ears and so this might be personalFor this price this earphone with one year warranty is excellent.\",\n",
       " 'Recommended product....Boat always goes beyond my expectation....I am already using boat rockerz 255 pro neckband but I wanted to have a stock of earphones too and I choosed boat again and I am glad I did it....I tried this colour mint purple for first time and it looks so beautiful and decent....you guys must try it....and earphone quality is very very awesome...the noise cancellation is perfect and sound and bass quality is justtt perfect....everyone should try it once 🥰',\n",
       " 'For price less thn 500 go for it dont see 1,2,5star reviews check only 3&4 star reviews for any of the product u buy online bcz that are true reviews by users.Now abt boat 100 earphnOverall good for listening music ;in movies sound ;comfortable for long hours ; no pain in ear ; during sleep there is no pain while listening sleeping music when ear touched pillow u cant feel any pain; in overall expectations whatever u really want is 4 star.Now what is bad let me tell that plus minus volume button u really miss during journey or in other case. While on using microphn u hve to pick it little up near ur mouth bcz its mic too much lower from ur neck.Generally in all earphones upto 10k we se that at very higher & lower volume (say abv 12/15 or below 3/15) we have issue of treble & bass so let me tell this prblm is general in all earphones below 10k so for common people this is not so much big issueThe issue is at higher vol the earphn bass u r expecting is come with \"khar khar \"sound u feel like ur earphn vibrates too much unnecessary sound.  And in very lower volume u do not feel any bass. In treble mode only (high freq 5,10,15,20kHz only are set at 10dB in equalizer) u feel pain & irritation in ur side head nerves.So if we r talking abt vol abv 3/15 to below 12/15 this earphn are marvellous at cost 349.Also don\\'t buy white piece bcz they become dirty & looks very bad ugly & old  so go for black colour.don\\'t think abt cable got damaged after some time bcz of its round design & not flat ; i think for 1 year there will be no damage unless if u not broke it forcefully.And in last buy only when it is in offer at 349So that \"paisa vasool\"👍',\n",
       " 'I bought these since my earlier one had conked off. The earbuds have good quality of sound but the button does not work as advertised. No matter how many times I tried it refused to work & I have to swipe on the phone to answer a call which defeats the purpose of buying it. The mic is also not positioned in a way that my Cowon was which leads to problems in using it when you need only one of them in your ear.',\n",
       " \"I had these delivered to me within 2 hours of placing the order on a Sunday afternoon. That is QUITE something! And at 379₹ you couldn't ask for a nicer pair of basic earphones with mic. They come with a 1 year warranty which is good.The mic isn't noise cancelling but it's decently clear during calls. I can comfortably take calls as long as the room is silent.The impedence is low, and thus they feel louder when connected to a phone. I drive mine through Xiaomi's Bluetooth Receiver. They're easily better than the Xiaomi Sports Basic Bluetooth earphones they replaced. I need to significantly reduce the volume on my phone because of how loud they are.While they're good to listen to music on, I dislike the fact that the frequency response isn't flat. The bass and some upper mids feel very pushed. I'll probably to struggle get my music mixes right on these.Overall I rated them 5/5 because at the price I paid they're a good package.\",\n",
       " \"After using 20+ different earphones over years, this has been the worst in terms of durability. Bought twice and both times within 3-4 months one side stopped working. Even on same price range I have Samsung, Philips, WeCool, JBL and others but only Boat 100 series stopped working that too twice. After gaining initial confidence and customer base now Boat doesn't care anymore. I had same experience with boat 550 Bluetooth headphones. Replaced twice because of quality issues and noise finally returned for full refund from Amazon.My brother also bought 2 sets and both stopped working within short period of time. He had warned me NOT TO BUY.Sound quality is good no doubt about it but absolutely not worth.I strongly advise not to buy and avoid at any cost.\",\n",
       " \"It is a very nice product. I bought it for Rs 399.Noise cancellation is pretty much non-existent, considering it's price that was expected. I really like it's bass and sound quality. It is undoubtedly one of best earphones in this price-range.The package arrived in a nice and appropriate packaging. The box contained a black mesh pouch for carrying earphones, which is a nice addition. It also contained a 'boat' sticker. The earphones also came with a velcro for keeping the earphones from getting tangled.Overall I would say that it is a nice buy for its bass and sound quality. The accessories like the the pouch and velcro are icing on the cake!\",\n",
       " 'I don’t know much about headphones so I randomly found these which said they’ll have Bass for Bass lovers like me, so I went for them.Turns out, they are nothing what I expected from boAt.Packaging was fine, got an extra pair of silicone heads with a 1 wear warranty card.But,The moment I put them on, and played a heavy bass song, they literally went to split my ear in two with the insane amount of treble and sharp noise it produced.I even went to adjust the Equalizer according to them but It didn’t do any good.I have an iPhone and thought of buying Airpods but before that I was on a spree to get my hands on some other headphones for spare.It was a lightening deal which I really don’t mind but the amount of dissatisfaction they provided made me rethink about the decision of buying boAt’ wireless headphones.',\n",
       " \"I really enjoyed this earphone. This is a very flimsy one, so if you are a person who would keep this one little organized in the bag and not to actually dump the earphone and then pull it out, this can last you long. It comes with additional earbuds which can be useful.Sound quality is good for what you are paying and I really enjoyed listening to music and watch shows with this. The microphones are very good if you are not in a very noisy environment because the noise cancellation in this is bad. Even the sound from far away can be heard by the person on the other end.Sadly this one won't last longer than a year. I had ordered two units and both of them had issues after 13-14 months. With one unit it was one earpiece stopped working and with the second unit, it had some internal damage in the wire due to which there was loose connection leading to loss of sound on the one earpiece.\",\n",
       " 'For the price 399₹ this earphone is a great value for money product . The material and look is not so expensive but the amount the bass from this is excellent and the sound quality is also good . The thing I don\\'t like is the end of the pin area can be broken easily after regular use i think you understand what I mean. Rest is fineEdit: After 4 months normal use one side stopped working suddenly😭. Warranty claim was really easy one. They scheduled the pickup for my earphone and  it went to service center (am not sure where it went) and nothing was heard after it 😵. After a long 14 days I got my replacement which is a new earphone in a simple package 🤑. Even though I missed the cover and package and only thing I had was earphone and purchase receipt 🤧.A big thanks to boat for the replacement....😚😚😍😍😍😍I hope a \"helpful\" for the edit and review 😇',\n",
       " \"Bought this product in October 21, regretting this purchase... comparison with the MI headphones.I was using the Mi headphones for more than 1 year now, the perfect design and comfort... (Had gone in the washing machine 2 times and was still working fine the next day. I still have them but the mic is not working.Boat headphonesDislikes1) The placement of the mic is far away from the mouth, so until you get the mic close the other person can't hear too well.2) Personally didn't like the quality and the placement of the headphone jack it got bent, not to mention the headphones stopped working within 5 months.Likes1) Decent bass.\",\n",
       " 'Bought the Made in India one and its good. The length, the sound quality, the look is decent. Also got a pouch and a strap with it.I had purchased boat earphone 2 years ago and it is still work finely just the mic has become less sensitive.Go for the Made in India one instead of the chinese one.Writing after using few days, you cannot keep listening for long ears literally start hurting like a rash. I wish i had bought the previous ones again.',\n",
       " 'Looks fine...Product quality ok...Sound quality- Personally I am not satisfied cost @999/- have bought it unde the prime day deal@399/- .Earlier I was used Sennheiser CX 180 Street without mic and the sound / Bass clearly is accurate fully satisfied product and currently using bose years Phone old model without noice cancellation but nobody can beet the bose.Under the range @399/ you have other options too so check it however boat product is not more then 299/- maximum.',\n",
       " \"Love these Boat Bassheads. I wanted a easy to use dual purpose headphones which I can use for calls as well as listening to music. Here are my thoughts after using them for a week...1. Look classy in black2. Light and comfortable to wear3. Won't tangle easily4. Solid built quality5. Good bass but not over the top6. You get extra set of earbuds to adjust as per your sizeWhat you may not like...1. Not very loud (you won't hurt your ears)2. Bass is there but it's not like some over the ear headphones3. I'm not too sure about noise cancelling abilitiesNot a deal breaker for me so I am happy wotj them. Sound quality is what matters and not the loudness.Go for it!\",\n",
       " 'Review on March 4, 2022I purchased this mid August 2021 for mom.She used it for her Samsung Galaxy A70.She mainly used it to watch YouTube. It worked smoothly with good voice quality for till mid February 2022( So it worked for 6 months). Then both the earheads stopped function.Since this boAt earphone had 1 year warranty, I raised a complaint in boAt site(Just google how to do it. PS: U need to download your invoice for the order)Once you have raised complaint, the delivery guy will pick the damaged on.after few days they will check it and will deliver us a new one. New one is working good for the same phone.I loved the boAt service. I have heard boAt has a very good service.Review on Aug 30, 2021Good voice qualitySuitable for Samsung Galaxy A70 phoneHave a small pouch as shown in picture',\n",
       " 'Bought Boat ⛵ earphones first time for my sister.After searching from multiple options online choose this model as it fits our requirements and in good price during sale.Delivery is fast and delivery woman behaviour is also very good & positive.Talking about product packaging is good,we get earphone with a netted pouch.1.Earphone fits and compatible in our devices.2.Colour and wire quality is also good.3.Bass quality is nice and sound is clear.4.Noise cancellation is ok not great.5.But, major problem is in mic 🎤,it is working but other person is unable to get my voice clear and loud.I tried it with different devices with different caller also but no difference.So,it needs much improvement in MIC 🎤 area.Other than it is just ok earphones 🎧 at this range.',\n",
       " \"*Thank You Amazon & for the Seller...*This earphone is very best in quality and it's too much fought that, in fact we can use it very roughly...*It's have high bass and good sound quality in this segment...*I prefer this to my friends also who are looking for budget earphone...*But their is some cons:-1. Their is no noise cancelation...2.Their is no magnetics corner like boat 102....*But I don't deserve much more from it...\",\n",
       " 'Let me begin by adding \"For the price\" -1. Fit - Requires some getting used to, but i managed to it fit it properly to feel the music2. Sound quality - Ok, so if you remove the price factor, these headphones are no better than low end skullcandy ones. Bass reproduction is limited to mostly thumping. You won\\'t get much of that deep harmonic bass. Maybe, for this price, this is what you get. Don\\'t get lured by the price, if you want great sound quality, go for the higher end ones.']"
      ]
     },
     "execution_count": 3,
     "metadata": {},
     "output_type": "execute_result"
    }
   ],
   "source": [
    "title"
   ]
  },
  {
   "cell_type": "code",
   "execution_count": 4,
   "id": "5450df1c",
   "metadata": {},
   "outputs": [
    {
     "data": {
      "text/plain": [
       "60"
      ]
     },
     "execution_count": 4,
     "metadata": {},
     "output_type": "execute_result"
    }
   ],
   "source": [
    "len(title)"
   ]
  },
  {
   "cell_type": "code",
   "execution_count": 5,
   "id": "5adc314d",
   "metadata": {},
   "outputs": [],
   "source": [
    "rev={'reviews':title}"
   ]
  },
  {
   "cell_type": "code",
   "execution_count": 6,
   "id": "52c7922e",
   "metadata": {},
   "outputs": [],
   "source": [
    "import numpy as np\n",
    "import pandas as pd"
   ]
  },
  {
   "cell_type": "code",
   "execution_count": 7,
   "id": "57a77635",
   "metadata": {},
   "outputs": [],
   "source": [
    "review_data=pd.DataFrame.from_dict(rev)"
   ]
  },
  {
   "cell_type": "code",
   "execution_count": 8,
   "id": "717fcce0",
   "metadata": {},
   "outputs": [
    {
     "data": {
      "text/html": [
       "<div>\n",
       "<style scoped>\n",
       "    .dataframe tbody tr th:only-of-type {\n",
       "        vertical-align: middle;\n",
       "    }\n",
       "\n",
       "    .dataframe tbody tr th {\n",
       "        vertical-align: top;\n",
       "    }\n",
       "\n",
       "    .dataframe thead th {\n",
       "        text-align: right;\n",
       "    }\n",
       "</style>\n",
       "<table border=\"1\" class=\"dataframe\">\n",
       "  <thead>\n",
       "    <tr style=\"text-align: right;\">\n",
       "      <th></th>\n",
       "      <th>reviews</th>\n",
       "    </tr>\n",
       "  </thead>\n",
       "  <tbody>\n",
       "    <tr>\n",
       "      <th>0</th>\n",
       "      <td>I have purchased this boat earphone few months...</td>\n",
       "    </tr>\n",
       "    <tr>\n",
       "      <th>1</th>\n",
       "      <td>One of the best pair of earphone for the price...</td>\n",
       "    </tr>\n",
       "    <tr>\n",
       "      <th>2</th>\n",
       "      <td>Build quality (5/5)Durability (4/5)Wire length...</td>\n",
       "    </tr>\n",
       "    <tr>\n",
       "      <th>3</th>\n",
       "      <td>I bought this in sept and I'm NOT SATISFIED wi...</td>\n",
       "    </tr>\n",
       "    <tr>\n",
       "      <th>4</th>\n",
       "      <td>For a price of rs 400 it's worth the cost, i p...</td>\n",
       "    </tr>\n",
       "  </tbody>\n",
       "</table>\n",
       "</div>"
      ],
      "text/plain": [
       "                                             reviews\n",
       "0  I have purchased this boat earphone few months...\n",
       "1  One of the best pair of earphone for the price...\n",
       "2  Build quality (5/5)Durability (4/5)Wire length...\n",
       "3  I bought this in sept and I'm NOT SATISFIED wi...\n",
       "4  For a price of rs 400 it's worth the cost, i p..."
      ]
     },
     "execution_count": 8,
     "metadata": {},
     "output_type": "execute_result"
    }
   ],
   "source": [
    "review_data.head()"
   ]
  },
  {
   "cell_type": "code",
   "execution_count": 9,
   "id": "3c66e0ba",
   "metadata": {},
   "outputs": [],
   "source": [
    "review_data.to_csv('Scraping_reviews.csv',index=False)"
   ]
  },
  {
   "cell_type": "code",
   "execution_count": null,
   "id": "8f9abf26",
   "metadata": {},
   "outputs": [],
   "source": []
  },
  {
   "cell_type": "code",
   "execution_count": null,
   "id": "79345747",
   "metadata": {},
   "outputs": [],
   "source": []
  },
  {
   "cell_type": "code",
   "execution_count": null,
   "id": "328912ac",
   "metadata": {},
   "outputs": [],
   "source": []
  },
  {
   "cell_type": "code",
   "execution_count": null,
   "id": "353c459f",
   "metadata": {},
   "outputs": [],
   "source": []
  },
  {
   "cell_type": "code",
   "execution_count": null,
   "id": "4fbe3fa3",
   "metadata": {},
   "outputs": [],
   "source": []
  },
  {
   "cell_type": "code",
   "execution_count": null,
   "id": "4ca366da",
   "metadata": {},
   "outputs": [],
   "source": []
  },
  {
   "cell_type": "code",
   "execution_count": null,
   "id": "41f0afb7",
   "metadata": {},
   "outputs": [],
   "source": []
  },
  {
   "cell_type": "code",
   "execution_count": null,
   "id": "aaf52571",
   "metadata": {},
   "outputs": [],
   "source": []
  },
  {
   "cell_type": "code",
   "execution_count": null,
   "id": "5a709ecb",
   "metadata": {},
   "outputs": [],
   "source": []
  },
  {
   "cell_type": "code",
   "execution_count": null,
   "id": "9ce19759",
   "metadata": {},
   "outputs": [],
   "source": []
  },
  {
   "cell_type": "code",
   "execution_count": null,
   "id": "d04d717b",
   "metadata": {},
   "outputs": [],
   "source": []
  },
  {
   "cell_type": "code",
   "execution_count": null,
   "id": "b45ac001",
   "metadata": {},
   "outputs": [],
   "source": []
  }
 ],
 "metadata": {
  "kernelspec": {
   "display_name": "Python 3",
   "language": "python",
   "name": "python3"
  },
  "language_info": {
   "codemirror_mode": {
    "name": "ipython",
    "version": 3
   },
   "file_extension": ".py",
   "mimetype": "text/x-python",
   "name": "python",
   "nbconvert_exporter": "python",
   "pygments_lexer": "ipython3",
   "version": "3.8.8"
  }
 },
 "nbformat": 4,
 "nbformat_minor": 5
}
